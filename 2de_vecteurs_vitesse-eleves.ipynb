{
 "cells": [
  {
   "cell_type": "markdown",
   "id": "3f9dea7f-e376-477b-8f98-abd73041a530",
   "metadata": {},
   "source": [
    "# Représentation des vecteurs vitesse"
   ]
  },
  {
   "cell_type": "markdown",
   "id": "8a3969a5-4cc2-473c-86a6-df32c20c35c3",
   "metadata": {},
   "source": [
    "___"
   ]
  },
  {
   "cell_type": "markdown",
   "id": "85df14e0-fbb7-4a70-ae7b-7fa8ae71b562",
   "metadata": {},
   "source": [
    "### Les données expérimentales"
   ]
  },
  {
   "cell_type": "markdown",
   "id": "ae108b87-9042-4ae7-bb2f-a0f3f3c1a9d5",
   "metadata": {},
   "source": [
    "Les abscisses des positions du centre de masse sont issues du pointage de la vidéo. Les valeurs sont tout d'abord affichées et sélectionnées dans le tableur de Latispro. Elle sont ensuite collées dans un simple éditeur de texte (Bloc Note par exemple). Le séparateur décimal qui est souvent la virgule \",\" doit être remplacé par un point \".\". La fonction Remplacer de l'éditeur de texte permet d'effectuer rapidement ce travail.\n",
    "\n",
    "Les valeurs sont ensuite organisées manuellement sous forme d'une liste Python. Une liste est délimitée par des crochets [ ... ] et les valeurs qu'elle contient sont séparées par des virgules.\n",
    "\n",
    "$ \\text{Exemple : X=[ valeur1, valeur2, valeur3, valeur4 ]}$\n",
    "\n",
    "Pour finir, la liste est copiée dans la cellule de code ci-dessous :"
   ]
  },
  {
   "cell_type": "code",
   "execution_count": null,
   "id": "5703cc46-c846-4ef3-954c-ee3217821ed0",
   "metadata": {},
   "outputs": [],
   "source": [
    "X="
   ]
  },
  {
   "cell_type": "markdown",
   "id": "7e7e116f-7d7d-455e-925c-fbb51e97aecf",
   "metadata": {},
   "source": [
    "La même méthode est utilisée pour obtenir la liste des ordonnées des positions successives du centre de masse :"
   ]
  },
  {
   "cell_type": "code",
   "execution_count": null,
   "id": "8069ac09-722a-4fcb-a4d0-ea94284f6f6e",
   "metadata": {},
   "outputs": [],
   "source": [
    "Y="
   ]
  },
  {
   "cell_type": "markdown",
   "id": "d2a25603-b3e7-4ede-ad8e-ab41f0918564",
   "metadata": {},
   "source": [
    "Une petite vérification : les longeurs des listes des abscisses et des ordonnées doivent être identiques :"
   ]
  },
  {
   "cell_type": "code",
   "execution_count": null,
   "id": "8d38897b-8922-4668-a54d-b76c47079cf0",
   "metadata": {},
   "outputs": [],
   "source": [
    "len(X)==len(Y)"
   ]
  },
  {
   "cell_type": "markdown",
   "id": "c5d5a6a0-f308-4a8f-a6bd-f4e145a1fcf9",
   "metadata": {},
   "source": [
    "___"
   ]
  },
  {
   "cell_type": "markdown",
   "id": "6a8f11b7-54aa-45ee-bb34-51c76bb06df2",
   "metadata": {},
   "source": [
    "### Représentation graphique des positions successives du centre de masse."
   ]
  },
  {
   "cell_type": "markdown",
   "id": "c75f4b8b-9b0a-47c3-b80c-ac2d87d5e67f",
   "metadata": {},
   "source": [
    "Il est maintenant possible de repésenter graphiquement les positions successives du centre de masse à l'aide du module $matplotlib.pyplot$."
   ]
  },
  {
   "cell_type": "code",
   "execution_count": null,
   "id": "0cb5751c-bd75-4f1c-a702-190914afba4f",
   "metadata": {},
   "outputs": [],
   "source": [
    "import matplotlib.pyplot as plt\n",
    "def graph_y_x():\n",
    "    plt.scatter(..., ..., c='black', marker='+') #A compléter\n",
    "    plt.xlabel(\"x (en m)\")\n",
    "    plt.ylabel(\"y (en m)\")\n",
    "    plt.ylim(0.5,2)\n",
    "    plt.xlim(-1,1)\n",
    "    plt.show()"
   ]
  },
  {
   "cell_type": "code",
   "execution_count": null,
   "id": "9025d490-f353-4525-9f41-1283ee54b752",
   "metadata": {},
   "outputs": [],
   "source": [
    "graph_y_x()"
   ]
  },
  {
   "cell_type": "markdown",
   "id": "9056e2e5-19e5-4279-beda-231b1c27920e",
   "metadata": {},
   "source": [
    "___"
   ]
  },
  {
   "cell_type": "markdown",
   "id": "5cb60983-992d-47a5-bbb4-dac3a9d22bd7",
   "metadata": {
    "tags": []
   },
   "source": [
    "### Calcul des vitesses instantannées du centre de masse."
   ]
  },
  {
   "cell_type": "markdown",
   "id": "658e7dc6-e4b1-42cd-876a-02fe2ed9df96",
   "metadata": {
    "tags": []
   },
   "source": [
    "Pour calculer les vitesses instantanées du centre de masse dans ses différentes positions, il est nécessaire de connaître la durée $dt$ séparant deux images de la vidéo. Elle est calculée à partir de la fréquence des images :"
   ]
  },
  {
   "cell_type": "code",
   "execution_count": null,
   "id": "b7e9deef-8b9a-42d7-a537-d3dd8d5a084f",
   "metadata": {
    "tags": []
   },
   "outputs": [],
   "source": [
    "f=... #images/s    #A compléter\n",
    "dt=...             #A compléter\n",
    "print(dt,\"s\")"
   ]
  },
  {
   "cell_type": "markdown",
   "id": "aed923c7-c36c-475c-9ace-41b28d5d0929",
   "metadata": {},
   "source": [
    "Les coordonnées VX et VY des vecteurs vitesse instantannée peuvent être calculées à l'aide des relations :\n",
    "\n",
    "<div style=\"color:#FF0000; text-align:center; background-color:#FFF9F9;\">$ \\overrightarrow{V_{i}} ~(VX_{i},VY_{i}) ~~~~avec~~~~ VX_{i} = \\dfrac{X_{i+1}-X_{i}}{dt} ~~~~et~~~~ VY_{i} = \\dfrac{Y_{i+1}-Y_{i}}{dt}$</div>\n",
    "\n"
   ]
  },
  {
   "cell_type": "markdown",
   "id": "c7ac9372-aae0-4eca-ba62-b934e1d2c100",
   "metadata": {},
   "source": [
    "Si la longueur de la liste des positions est égale à 10, elle contient 10 valeurs. Leurs indices de position $i$ dans la liste varie alors de 0 jusqu'à 9. Plus généralement, l'indice de position $i$ variera de 0 jusqu'à len(Y)-1.\n",
    "\n",
    "| Y=[ | ..., | ..., | ..., | ..., | ..., | ..., | ..., | ..., | ..., | ... | ] |\n",
    "|:--:|:--:|:--:|:--:|:--:|:--:|:--:|:--:|:--:|:--:|:--:|:--:|\n",
    "| |0|1|2|3|4|5|6|7|8|9| |\n",
    "\n",
    "Le terme $Y[i+1]-Y[i]$ pourra être calculé pour i variant de i=0 jusqu'à i=8. En effet, le terme pour i=9 ne peut pas être calculé car Y[9+1] n'existe pas. L'indice i doit donc varier de 0 jusqu'à len(Y)-2. Dans le $range$ de la boucle $for$, il faut indiquer la valeur de départ pour i, soit 0, ainsi que la valeur d'arrivée + 1. Comme on souhaite que i s'arrête à len(Y)-2, il faut lui indiquer len(Y)-2+1 = len(Y)-1 comme valeur d'arrivée."
   ]
  },
  {
   "cell_type": "code",
   "execution_count": null,
   "id": "7eca2d13-20f9-48af-a27d-88a704cbc43b",
   "metadata": {
    "tags": []
   },
   "outputs": [],
   "source": [
    "VX=[  ...   for i in range(0,len(X)-1)]       #A compléter\n",
    "print(VX)\n",
    "VY=[  ...   for i in range(0,len(Y)-1)]       #A compléter\n",
    "print(VY)"
   ]
  },
  {
   "cell_type": "markdown",
   "id": "d16375f5-e1b3-49dd-8a19-b2adef3736b0",
   "metadata": {},
   "source": [
    "___"
   ]
  },
  {
   "cell_type": "markdown",
   "id": "20a99403-55dd-4769-88b9-8faa54e4bf5e",
   "metadata": {
    "tags": []
   },
   "source": [
    "### Représentation des vecteurs vitesses instantannées du centre de masse."
   ]
  },
  {
   "cell_type": "markdown",
   "id": "0eb43ab3-e1b0-4c6a-a155-8c315ead3c8f",
   "metadata": {},
   "source": [
    "Pour tracer les vecteurs vitesse, nous allons utiliser la fonction $quiver$ de $matplotlib.pyplot$. Elle permet de tracer un vecteur de coordonnées (u,v) au point de coordonnées (x,y): **plt.quiver(x,y,u,v)**. D'autres paramètres sont ajoutés : **angles='xy'** permet de tracer le vecteur selon la direction de (x,y) vers (x+u,y+v), **scale_units='xy'** permet de fixer une échelle de représentation cohérente avec les échelles sur les axes x et y. Il est alors possible de fixer un facteur d'échelle à l'aide du paramètre **scale**.\n",
    "\n",
    "Il est nécessaire de mettre en place une boucle pour tracer le vecteur vitesse en chaque position du centre de masse."
   ]
  },
  {
   "cell_type": "code",
   "execution_count": 1,
   "id": "0c3bb849-98fc-41b2-8da6-d572b87825e6",
   "metadata": {
    "tags": []
   },
   "outputs": [],
   "source": [
    "import matplotlib.pyplot as plt\n",
    "def graph_y_x_v(s=20):\n",
    "    plt.figure(figsize = (5, 10))\n",
    "    plt.scatter(..., ..., c='black', marker='+')      #A compléter\n",
    "    plt.xlabel(\"x (en m)\")\n",
    "    plt.ylabel(\"y (en m)\")\n",
    "    plt.ylim(0.5,2)\n",
    "    plt.xlim(-1,1)\n",
    "    for i in range(len(VX)):\n",
    "        plt.quiver(..., ... ,... , ..., scale_units='xy',angles='xy', scale=s, color='green')\n",
    "    plt.show()"
   ]
  },
  {
   "cell_type": "markdown",
   "id": "2039eba8-695f-4d51-9772-111011ced36c",
   "metadata": {},
   "source": [
    "Le module $ipywidgets$ permet d'interagir facilement avec les graphiques notamment à l'aide de curseurs. Dans notre situation, nous allons créer un curseur permettant de régler le facteur d'échelle s. Il variera entre 0 et 50 par pas de 0.1. Sa valeur par défaut est de 20."
   ]
  },
  {
   "cell_type": "code",
   "execution_count": null,
   "id": "89907baf-40f9-4562-9185-4b484a8cfdf7",
   "metadata": {
    "tags": []
   },
   "outputs": [],
   "source": [
    "import ipywidgets as widgets\n",
    "widgets.interact(graph_y_x_v, s=(0,50,0.1))"
   ]
  },
  {
   "cell_type": "markdown",
   "id": "83a86fb8-90f2-4328-93e9-8fd70c929d72",
   "metadata": {},
   "source": [
    "___"
   ]
  }
 ],
 "metadata": {
  "kernelspec": {
   "display_name": "Python 3 (ipykernel)",
   "language": "python",
   "name": "python3"
  },
  "language_info": {
   "codemirror_mode": {
    "name": "ipython",
    "version": 3
   },
   "file_extension": ".py",
   "mimetype": "text/x-python",
   "name": "python",
   "nbconvert_exporter": "python",
   "pygments_lexer": "ipython3",
   "version": "3.9.7"
  }
 },
 "nbformat": 4,
 "nbformat_minor": 5
}
